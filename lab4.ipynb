{
 "cells": [
  {
   "cell_type": "code",
   "execution_count": 19,
   "metadata": {},
   "outputs": [],
   "source": [
    "from sympy import *\n",
    "from IPython.display import display, Markdown, Latex"
   ]
  },
  {
   "cell_type": "markdown",
   "metadata": {},
   "source": [
    "## Problem 1"
   ]
  },
  {
   "cell_type": "code",
   "execution_count": 41,
   "metadata": {},
   "outputs": [
    {
     "data": {
      "text/markdown": [
       "a) Find the least squares solution of $A\\mathbf{x}=\\mathbf{b}$, where $$A=\\left[\\begin{matrix}2\\\\3\\\\5\\\\7\\end{matrix}\\right],\\qquad \\mathbf{b}=\\left[\\begin{matrix}1\\\\4\\\\6\\\\8\\end{matrix}\\right].$$\n",
       "\n",
       "#### Answer:\n",
       "$$\\mathbf{x}=\\left[\\begin{matrix}\\frac{100}{87}\\end{matrix}\\right]$$"
      ],
      "text/plain": [
       "<IPython.core.display.Markdown object>"
      ]
     },
     "metadata": {},
     "output_type": "display_data"
    }
   ],
   "source": [
    "A = Matrix([2, 3, 5, 7])\n",
    "b = Matrix([1, 4, 6, 8])\n",
    "x = (A.T*A).inv()*A.T*b\n",
    "\n",
    "problem = \"\"\"a) Find the least squares solution of $A\\mathbf{x}=\\mathbf{b}$, where $$A=%s,\\qquad \\mathbf{b}=%s.$$\n",
    "\n",
    "#### Answer:\n",
    "$$\\mathbf{x}=%s$$\"\"\" % (latex(A), latex(b), latex(x))\n",
    "\n",
    "display(Markdown(problem))"
   ]
  },
  {
   "cell_type": "code",
   "execution_count": 43,
   "metadata": {},
   "outputs": [
    {
     "data": {
      "text/markdown": [
       "b) Find the least squares solution of $A\\mathbf{x}=\\mathbf{b}$, where $$A=\\left[\\begin{matrix}1 & 0\\\\1 & 1\\\\1 & 1\\end{matrix}\\right],\\qquad \\mathbf{b}=\\left[\\begin{matrix}1\\\\0\\\\0\\end{matrix}\\right].$$\n",
       "\n",
       "#### Answer:\n",
       "$$\\mathbf{x}=\\left[\\begin{matrix}1\\\\-1\\end{matrix}\\right]$$"
      ],
      "text/plain": [
       "<IPython.core.display.Markdown object>"
      ]
     },
     "metadata": {},
     "output_type": "display_data"
    }
   ],
   "source": [
    "A = Matrix([[1, 0], [1, 1], [1, 1]])\n",
    "b = Matrix([1, 0, 0])\n",
    "x = (A.T*A).inv()*A.T*b\n",
    "\n",
    "problem = \"\"\"b) Find the least squares solution of $A\\mathbf{x}=\\mathbf{b}$, where $$A=%s,\\qquad \\mathbf{b}=%s.$$\n",
    "\n",
    "#### Answer:\n",
    "$$\\mathbf{x}=%s$$\"\"\" % (latex(A), latex(b), latex(x))\n",
    "\n",
    "display(Markdown(problem))"
   ]
  },
  {
   "cell_type": "markdown",
   "metadata": {},
   "source": [
    "## Problem 2\n",
    "\n",
    "Consider the dataset $$(0, 0),\\quad (1, 1),\\quad (2, 3),\\quad (3, 6).$$"
   ]
  },
  {
   "cell_type": "code",
   "execution_count": 61,
   "metadata": {
    "scrolled": false
   },
   "outputs": [
    {
     "data": {
      "text/markdown": [
       "a) Find the least squares line associated to these data.\n",
       "\n",
       "#### Answer:\n",
       "The least-squares line is $y=\\beta_0 + \\beta_1 x$, where\n",
       "$$\n",
       "X=\\left[\\begin{matrix}- \\frac{1}{2}\\\\2\\end{matrix}\\right],\\quad\\mathbf{y}=\\left[\\begin{matrix}1 & 0\\\\1 & 1\\\\1 & 2\\\\1 & 3\\end{matrix}\\right],\\quad\\text{and}\\quad\n",
       "\\begin{bmatrix}\\beta_0\\\\ \\beta_1\\end{bmatrix} = \n",
       "(X^TX)^{-1}X^T\\mathbf{y}=\\left[\\begin{matrix}0\\\\1\\\\3\\\\6\\end{matrix}\\right]\n",
       "$$\n"
      ],
      "text/plain": [
       "<IPython.core.display.Markdown object>"
      ]
     },
     "metadata": {},
     "output_type": "display_data"
    }
   ],
   "source": [
    "X = Matrix([[1, 0], [1, 1], [1, 2], [1, 3]])\n",
    "y = Matrix([0, 1, 3, 6])\n",
    "beta = (X.T*X).inv()*X.T*y\n",
    "\n",
    "problem = \"\"\"a) Find the least squares line associated to these data.\n",
    "\n",
    "#### Answer:\n",
    "The least-squares line is $y=\\\\beta_0 + \\\\beta_1 x$, where\n",
    "$$\n",
    "X=%s,\\\\quad\\\\mathbf{y}=%s,\\\\quad\\\\text{and}\\\\quad\n",
    "\\\\begin{bmatrix}\\\\beta_0\\\\\\\\ \\\\beta_1\\\\end{bmatrix} = \n",
    "(X^TX)^{-1}X^T\\\\mathbf{y}=%s\n",
    "$$\n",
    "\"\"\" % (latex(beta), latex(X), latex(y))\n",
    "\n",
    "display(Markdown(problem))"
   ]
  },
  {
   "cell_type": "code",
   "execution_count": 67,
   "metadata": {},
   "outputs": [
    {
     "data": {
      "text/markdown": [
       "b) Find the least squares quadratic function, $y=\\beta_0 + \\beta_1 x + \\beta_2 x^2$, associated to these data.\n",
       "\n",
       "#### Answer:\n",
       "The least squares quadratic is $y=\\beta_0 + \\beta_1 x + \\beta_2 x^2$, where\n",
       "$$\n",
       "X=\\left[\\begin{matrix}1 & 0 & 0\\\\1 & 1 & 1\\\\1 & 2 & 4\\\\1 & 3 & 9\\end{matrix}\\right],\\quad\\mathbf{y}=\\left[\\begin{matrix}0\\\\1\\\\3\\\\6\\end{matrix}\\right],\\quad\\text{and}\\quad\n",
       "\\begin{bmatrix}\\beta_0\\\\ \\beta_1\\\\ \\beta_2\\end{bmatrix} = \n",
       "(X^TX)^{-1}X^T\\mathbf{y}=\\left[\\begin{matrix}0\\\\\\frac{1}{2}\\\\\\frac{1}{2}\\end{matrix}\\right]\n",
       "$$\n"
      ],
      "text/plain": [
       "<IPython.core.display.Markdown object>"
      ]
     },
     "metadata": {},
     "output_type": "display_data"
    }
   ],
   "source": [
    "X = Matrix([[1, 0, 0], [1, 1, 1], [1, 2, 4], [1, 3, 9]])\n",
    "y = Matrix([0, 1, 3, 6])\n",
    "beta = (X.T*X).inv()*X.T*y\n",
    "\n",
    "problem = \"\"\"b) Find the least squares quadratic function, $y=\\\\beta_0 + \\\\beta_1 x + \\\\beta_2 x^2$, associated to these data.\n",
    "\n",
    "#### Answer:\n",
    "The least squares quadratic is $y=\\\\beta_0 + \\\\beta_1 x + \\\\beta_2 x^2$, where\n",
    "$$\n",
    "X=%s,\\\\quad\\\\mathbf{y}=%s,\\\\quad\\\\text{and}\\\\quad\n",
    "\\\\begin{bmatrix}\\\\beta_0\\\\\\\\ \\\\beta_1\\\\\\\\ \\\\beta_2\\\\end{bmatrix} = \n",
    "(X^TX)^{-1}X^T\\\\mathbf{y}=%s\n",
    "$$\n",
    "\"\"\" % (latex(X), latex(y), latex(beta))\n",
    "\n",
    "display(Markdown(problem))"
   ]
  },
  {
   "cell_type": "markdown",
   "metadata": {},
   "source": [
    "## Problem 3"
   ]
  },
  {
   "cell_type": "markdown",
   "metadata": {},
   "source": [
    "Consider the following data, collected from\n",
    "https://data.worldbank.org/indicator/SP.POP.TOTL,\n",
    "describing the total human population of planet earth.\n",
    "\n",
    "| Year | Population (billions) |\n",
    "| ---- | --------------------- |\n",
    "| 1970 | 3.7                   |\n",
    "| 1980 | 4.4                   |\n",
    "| 1990 | 5.3                   |\n",
    "| 2000 | 6.1                   |\n",
    "| 2010 | 6.9                   |\n",
    "\n",
    "Find the least squares line for the *logarithmic plot* ($t$ vs. $\\\\log_{10}p$) of these data, where $t$ is measured in decades after 1970 and $p$ is measured in people."
   ]
  },
  {
   "cell_type": "code",
   "execution_count": 93,
   "metadata": {},
   "outputs": [
    {
     "data": {
      "text/markdown": [
       " #### Answer:\n",
       "The least-squares line is $y=\\beta_0 + \\beta_1 x$, where\n",
       "$$\n",
       "X=\\left[\\begin{matrix}1 & 0\\\\1 & 1\\\\1 & 2\\\\1 & 3\\\\1 & 4\\end{matrix}\\right],\\quad\\mathbf{y}=\\left[\\begin{matrix}9.56820172406699\\\\9.64345267648619\\\\9.72427586960079\\\\9.78532983501077\\\\9.83884909073726\\end{matrix}\\right],\\quad\\text{and}\\quad\n",
       "\\begin{bmatrix}\\beta_0\\\\ \\beta_1 \\end{bmatrix} = \n",
       "(X^TX)^{-1}X^T\\mathbf{y}=\\left[\\begin{matrix}9.57538746080738\\\\0.0683171891865102\\end{matrix}\\right]\n",
       "$$\n",
       "\n",
       "If you subscribe to the belief that the population of earth is growing exponentially, then $p$ might be modeled by \n",
       "$$p = 10^{\\beta_0 + \\beta_1 t} = 10^{\\beta_0}10^{\\beta_1 t} = 3761728615.6176710^{0.0683171891865102 t}$$\n"
      ],
      "text/plain": [
       "<IPython.core.display.Markdown object>"
      ]
     },
     "metadata": {},
     "output_type": "display_data"
    }
   ],
   "source": [
    "from math import log10 as log\n",
    "X = Matrix([[1, 0], [1, 1], [1, 2], [1, 3], [1, 4]])\n",
    "y = Matrix([log(3.7e9), log(4.4e9), log(5.3e9), log(6.1e9), log(6.9e9)])\n",
    "beta = (X.T*X).inv()*X.T*y\n",
    "a = 10**beta[0]\n",
    "k = beta[1]\n",
    "\n",
    "answer = \"\"\" #### Answer:\n",
    "The least-squares line is $y=\\\\beta_0 + \\\\beta_1 x$, where\n",
    "$$\n",
    "X=%s,\\\\quad\\\\mathbf{y}=%s,\\\\quad\\\\text{and}\\\\quad\n",
    "\\\\begin{bmatrix}\\\\beta_0\\\\\\\\ \\\\beta_1 \\\\end{bmatrix} = \n",
    "(X^TX)^{-1}X^T\\\\mathbf{y}=%s\n",
    "$$\n",
    "\n",
    "If you subscribe to the belief that the population of earth is growing exponentially, then $p$ might be modeled by \n",
    "$$p = 10^{\\\\beta_0 + \\\\beta_1 t} = 10^{\\\\beta_0}10^{\\\\beta_1 t} = %s10^{%s t}$$\n",
    "\"\"\" % (latex(X), latex(y), latex(beta), a, k)\n",
    "\n",
    "display(Markdown(answer))"
   ]
  },
  {
   "cell_type": "markdown",
   "metadata": {},
   "source": [
    "## Problem 4"
   ]
  },
  {
   "cell_type": "code",
   "execution_count": 159,
   "metadata": {},
   "outputs": [
    {
     "data": {
      "text/markdown": [
       "Note that the columns of $A$ are *not* linearly independent: the third is twice the second minus the first.\n",
       "Therefore,\n",
       "$$\n",
       "C(A) = C(B),\\quad\\text{where}\\quad B=\\left[\\begin{matrix}1 & 2\\\\4 & 5\\\\7 & 8\\end{matrix}\\right].\n",
       "$$\n",
       "Now, the columns of $B$ *are* linearly independent, so the matrix, $P$, of projection onto $C(A)=C(B)$ is\n",
       "$$\n",
       "P = B(B^TB)^{-1}B^T = \\left[\\begin{matrix}\\frac{5}{6} & \\frac{1}{3} & - \\frac{1}{6}\\\\\\frac{1}{3} & \\frac{1}{3} & \\frac{1}{3}\\\\- \\frac{1}{6} & \\frac{1}{3} & \\frac{5}{6}\\end{matrix}\\right].\n",
       "$$\n",
       "Therefore, the projection of $\\mathbf{b}$ onto $C(A)$ is\n",
       "$$\n",
       "\\widehat{\\mathbf{b}}=\\left[\\begin{matrix}- \\frac{1}{6}\\\\\\frac{1}{3}\\\\\\frac{5}{6}\\end{matrix}\\right].\n",
       "$$\n",
       "Let's just verify that $\\mathbf{b}-\\widehat{\\mathbf{b}}$ is orthogonal to $C(A)$:\n",
       "$$\n",
       "A^T(\\mathbf{b}-\\widehat{\\mathbf{b}}) = \\left[\\begin{matrix}0\\\\0\\\\0\\end{matrix}\\right]\n",
       "$$\n"
      ],
      "text/plain": [
       "<IPython.core.display.Markdown object>"
      ]
     },
     "metadata": {},
     "output_type": "display_data"
    },
    {
     "data": {
      "text/markdown": [
       "We solve $A\\mathbf{x}=\\widehat{\\mathbf{b}}$:\n",
       "\n",
       "$$\\mathop{rref}\\left(\\begin{bmatrix}A& \\widehat{\\mathbf{b}}\\end{bmatrix}\\right)=\\left[\\begin{matrix}1 & 0 & -1 & \\frac{1}{2}\\\\0 & 1 & 2 & - \\frac{1}{3}\\\\0 & 0 & 0 & 0\\end{matrix}\\right],$$\n",
       "so\n",
       "$$\n",
       "\\mathbf{x} = \\left[\\begin{matrix}\\frac{t}{3}\\\\- \\frac{t}{2} + 1\\\\t\\end{matrix}\\right].\n",
       "$$\n"
      ],
      "text/plain": [
       "<IPython.core.display.Markdown object>"
      ]
     },
     "metadata": {},
     "output_type": "display_data"
    },
    {
     "data": {
      "text/markdown": [
       "Taking $t=0$, a solution of $A\\mathbf{x}=\\mathbf{\\widehat{\\mathbf{b}}}$ is\n",
       "$$\n",
       "\\mathbf{x}_0=\\left[\\begin{matrix}0\\\\1\\\\0\\end{matrix}\\right]\n",
       "$$\n",
       "\n",
       "Since $C(A^T)$ and $N(A)$ are orthogonal complements, we can write\n",
       "$$\n",
       "\\mathbf{x}_0=\\mathbf{u}+\\mathbf{v},\n",
       "$$\n",
       "where $\\mathbf{u}\\in C(A^T)$ is the projection of $\\mathbf{x}_0$ and $\\mathbf{v}\\in N(A)$ is the projection of $\\mathbf{x}_0$ onto $N(A)$.\n",
       "\n",
       "Since $\\mathbf{v}\\in N(A)$,\n",
       "$$\n",
       "\\widehat{\\mathbf{b}}=A\\mathbf{x}_0=A(\\mathbf{u} + \\mathbf{v}) = A\\mathbf{u} + A\\mathbf{v} = A\\mathbf{u} + \\mathbf{0} = A\\mathbf{u}.\n",
       "$$\n",
       "\n",
       "Thus, the projection $\\mathbf{u}$ of $\\mathbf{x}_0$ onto $C(A^T)$ is also a solution of $A\\mathbf{x}=\\widehat{\\mathbf{b}}$.\n",
       "\n",
       "By our computation of $\\mathop{rref}(A)$ above, the row space of $A$, $C(A^T)$, has basis\n",
       "$$\n",
       "\\left\\{\\left[\\begin{matrix}1\\\\0\\\\\\frac{1}{2}\\end{matrix}\\right],\\; \\left[\\begin{matrix}0\\\\1\\\\- \\frac{1}{3}\\end{matrix}\\right]\\right\\}.\n",
       "$$\n",
       "Therefore,\n",
       "$$\n",
       "Q := C(C^TC)^{-1}C^T = \\left[\\begin{matrix}\\frac{40}{49} & \\frac{6}{49} & \\frac{18}{49}\\\\\\frac{6}{49} & \\frac{45}{49} & - \\frac{12}{49}\\\\\\frac{18}{49} & - \\frac{12}{49} & \\frac{13}{49}\\end{matrix}\\right]\n",
       "$$\n",
       "is the matrix of projection onto $C(A^T)$, and the projection $\\mathbf{u}$ of $\\mathbf{x}_0$ onto $C(A^T)$ is\n",
       "$$\n",
       "\\mathbf{u}=Q\\mathbf{x}_0 = \\left[\\begin{matrix}\\frac{60}{49}\\\\\\frac{177}{49}\\\\6\\end{matrix}\\right].\n",
       "$$\n",
       "\n"
      ],
      "text/plain": [
       "<IPython.core.display.Markdown object>"
      ]
     },
     "metadata": {},
     "output_type": "display_data"
    }
   ],
   "source": [
    "A = Matrix([[1,2,3], [4,5,6], [7,8,9]])\n",
    "B = Matrix([[1,2], [4,5], [7,8]])\n",
    "b = Matrix([0,0,1])\n",
    "P = B*(B.T*B).inv()*B.T\n",
    "bhat = P*b\n",
    "\n",
    "parta = \"\"\"Note that the columns of $A$ are *not* linearly independent: the third is twice the second minus the first.\n",
    "Therefore,\n",
    "$$\n",
    "C(A) = C(B),\\\\quad\\\\text{where}\\\\quad B=%s.\n",
    "$$\n",
    "Now, the columns of $B$ *are* linearly independent, so the matrix, $P$, of projection onto $C(A)=C(B)$ is\n",
    "$$\n",
    "P = B(B^TB)^{-1}B^T = %s.\n",
    "$$\n",
    "Therefore, the projection of $\\\\mathbf{b}$ onto $C(A)$ is\n",
    "$$\n",
    "\\\\widehat{\\\\mathbf{b}}=%s.\n",
    "$$\n",
    "Let's just verify that $\\\\mathbf{b}-\\\\widehat{\\\\mathbf{b}}$ is orthogonal to $C(A)$:\n",
    "$$\n",
    "A^T(\\\\mathbf{b}-\\\\widehat{\\\\mathbf{b}}) = %s\n",
    "$$\n",
    "\"\"\"% (latex(B), latex(P), latex(bhat), latex(A.T*(b - bhat)))\n",
    "\n",
    "Abhat = A.col_insert(3, bhat)\n",
    "R = Abhat.rref()[0]\n",
    "def xx(u): return Matrix([S(u)/3, 1-S(u)/2, u])\n",
    "tt = symbols('t')\n",
    "partb = \"\"\"We solve $A\\\\mathbf{x}=\\\\widehat{\\\\mathbf{b}}$:\n",
    "\n",
    "$$\\\\mathop{rref}\\\\left(\\\\begin{bmatrix}A& \\\\widehat{\\\\mathbf{b}}\\\\end{bmatrix}\\\\right)=%s,$$\n",
    "so\n",
    "$$\n",
    "\\\\mathbf{x} = %s.\n",
    "$$\n",
    "\"\"\" % (latex(R), latex(xx(tt)))\n",
    "\n",
    "u = Matrix([1, 0, S(1)/S(2)])\n",
    "v = Matrix([0, 1, S(-1)/S(3)])\n",
    "C = Matrix([[1,0],[0,1],[S(1)/S(2), S(-1)/S(3)]])\n",
    "Q = C*(C.T*C).inv()*C.T\n",
    "\n",
    "partc = \"\"\"Taking $t=0$, a solution of $A\\mathbf{x}=\\\\mathbf{\\\\widehat{\\\\mathbf{b}}}$ is\n",
    "$$\n",
    "\\\\mathbf{x}_0=%s\n",
    "$$\n",
    "\n",
    "Since $C(A^T)$ and $N(A)$ are orthogonal complements, we can write\n",
    "$$\n",
    "\\\\mathbf{x}_0=\\\\mathbf{u}+\\\\mathbf{v},\n",
    "$$\n",
    "where $\\\\mathbf{u}\\\\in C(A^T)$ is the projection of $\\\\mathbf{x}_0$ and $\\\\mathbf{v}\\\\in N(A)$ is the projection of $\\\\mathbf{x}_0$ onto $N(A)$.\n",
    "\n",
    "Since $\\\\mathbf{v}\\\\in N(A)$,\n",
    "$$\n",
    "\\\\widehat{\\\\mathbf{b}}=A\\\\mathbf{x}_0=A(\\\\mathbf{u} + \\\\mathbf{v}) = A\\\\mathbf{u} + A\\\\mathbf{v} = A\\\\mathbf{u} + \\mathbf{0} = A\\\\mathbf{u}.\n",
    "$$\n",
    "\n",
    "Thus, the projection $\\\\mathbf{u}$ of $\\\\mathbf{x}_0$ onto $C(A^T)$ is also a solution of $A\\\\mathbf{x}=\\\\widehat{\\\\mathbf{b}}$.\n",
    "\n",
    "By our computation of $\\\\mathop{rref}(A)$ above, the row space of $A$, $C(A^T)$, has basis\n",
    "$$\n",
    "\\\\left\\\\{%s,\\; %s\\\\right\\\\}.\n",
    "$$\n",
    "Therefore,\n",
    "$$\n",
    "Q := C(C^TC)^{-1}C^T = %s\n",
    "$$\n",
    "is the matrix of projection onto $C(A^T)$, and the projection $\\\\mathbf{u}$ of $\\\\mathbf{x}_0$ onto $C(A^T)$ is\n",
    "$$\n",
    "\\\\mathbf{u}=Q\\\\mathbf{x}_0 = %s.\n",
    "$$\n",
    "\n",
    "\"\"\" % (latex(xx(0)), latex(u), latex(v), latex(Q), latex(A*Q*xx(0)))\n",
    "\n",
    "display(Markdown(parta))\n",
    "display(Markdown(partb))\n",
    "display(Markdown(partc))"
   ]
  },
  {
   "cell_type": "code",
   "execution_count": 171,
   "metadata": {},
   "outputs": [
    {
     "data": {
      "text/plain": [
       "Matrix([\n",
       "[ 1],\n",
       "[ 0],\n",
       "[-1]])"
      ]
     },
     "execution_count": 171,
     "metadata": {},
     "output_type": "execute_result"
    }
   ],
   "source": [
    "Z = zeros(R.shape[0], R.shape[1])\n",
    "RR = R + Z\n",
    "RR.col_del(3)\n",
    "RR.row(0).T"
   ]
  },
  {
   "cell_type": "code",
   "execution_count": 161,
   "metadata": {},
   "outputs": [
    {
     "data": {
      "text/plain": [
       "(Matrix([\n",
       " [1, 0, -1,  1/2],\n",
       " [0, 1,  2, -1/3],\n",
       " [0, 0,  0,    0]]), (0, 1))"
      ]
     },
     "execution_count": 161,
     "metadata": {},
     "output_type": "execute_result"
    }
   ],
   "source": [
    "Abhat.co"
   ]
  },
  {
   "cell_type": "code",
   "execution_count": null,
   "metadata": {},
   "outputs": [],
   "source": []
  }
 ],
 "metadata": {
  "kernelspec": {
   "display_name": "Python 2",
   "language": "python",
   "name": "python2"
  },
  "language_info": {
   "codemirror_mode": {
    "name": "ipython",
    "version": 2
   },
   "file_extension": ".py",
   "mimetype": "text/x-python",
   "name": "python",
   "nbconvert_exporter": "python",
   "pygments_lexer": "ipython2",
   "version": "2.7.12"
  }
 },
 "nbformat": 4,
 "nbformat_minor": 2
}
